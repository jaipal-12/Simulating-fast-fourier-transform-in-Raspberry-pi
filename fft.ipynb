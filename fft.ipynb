{
 "cells": [
  {
   "cell_type": "code",
   "execution_count": null,
   "id": "ff3717c1-348b-4508-a652-e635a30ab3e4",
   "metadata": {},
   "outputs": [],
   "source": [
    "Code Walkthrough\n",
    "Imports and Setup\n",
    "import numpy as np\n",
    "import matplotlib.pyplot as plt\n",
    "from matplotlib.animation import FuncAnimation\n",
    "from matplotlib.widgets import TextBox, Button, Slider\n",
    "The script uses\n",
    "numpy for arrays, FFT calculations, and noise generation\n",
    "watplotlib for plotting and interactive widgets\n",
    "Funcanimation for real-time updates\n",
    "Signal Parameters\n",
    "fs1000 #Sampling frequency (Hz)\n",
    "N-1000 #Samples per frase\n",
    "tnp.arange(N)/fs\n",
    "signal expr \"1\"np.sin(2*np.pi*50*t)\"\n",
    "noise level-0.2\n",
    "Sampling setup: samples per second, samples per animation frame\n",
    "is the time vector (0 to (N-1)/fs)\n",
    "Default signal is a 50 Hz sine wave\n",
    "Default noise level is 0.2 (standard deviation of Gaussian noise)\n",
    "UI Setup\n",
    "fig, (axi, as) plt.subpluts(), 1, figsize(10,0)) plt.subplots adjust(bottom 15)\n",
    "Creates a figure with\n",
    "Two stacked subplots\n",
    "Reserved bottom space for controls\n",
    "Time Domain Plot\n",
    "Lines, axi.plot([], []. l, color\"blue\")\n",
    "axi.set xlime, Nifs)\n",
    "axi.set ylim(73)\n",
    "axt.set title(\"Time Domain Signal\")\n",
    "ox1.set xlabel(\"Time (1)\")\n",
    "axi-set ylabel(\"Amplitude\")\n",
    "axi.grid(True)\n",
    "Time plot with placeholder s\n",
    "x-range: 0-1 second\n",
    "Initial y-range 2\n",
    "Frequency Domain Plot\n",
    "112 ax2.plot(1).[]. Ime, color=\"red\")\n",
    "ax2.set xlis(e, fs/2)\n",
    "ax2.set title(\"Frequency Spectrum (FFT)\")\n",
    "asl.set ylim(0, 200)\n",
    "ax2.set xlabel(\"Frequency (Hz)\") ax2.set ylabel(\"Magnitude\")\n",
    "ax2.grid(True)\n",
    "Frequency plot with placeholder 12\n",
    "x-range: 0-Nyquist frequency (2)\n",
    "Initial magnitude range: 0-200"
   ]
  },
  {
   "cell_type": "code",
   "execution_count": null,
   "id": "60d972a7-b530-49a6-8818-0ad7e11826d8",
   "metadata": {},
   "outputs": [],
   "source": [
    "Code Walkthrough\n",
    "Interactive Controls\n",
    "axbox expr pit.axes([.158.1, 8.7, 8.95]) textbox expr TextBox(axbor expr, \"Signal\", initial-signal_expr)\n",
    "axbutton pit.ares(1.5, 0.14, 8.1, 8.51) button Button(axhutton, \"Update\")\n",
    "axslider-pit axes (8.15, 0.05, 9.5,9.]) slider Slider(axallder, \"Noise Level\", 0.0, 1.0, valinit-noise level, valstsp-0.05)\n",
    "TextBox for entering signal expression\n",
    "Upriate button to apply changes\n",
    "Slider for noise level control (0 to 1 in 0.05 steps)\n",
    "Signal Generation and Animation\n",
    "Signal Generator Function\n",
    "def generate signal frame\n",
    "global signal expr\n",
    "local dict(\"пр\": пр, \"t\":t frane/fs]\n",
    "tmya\n",
    "signal eval(signal expr, (builtins: (3), local dict)\n",
    "except Exception as e\n",
    "print(\"Error in expression\", e) signal np.zeros_like(t)\n",
    "signal np.random.randn(4) noise level\n",
    "return signal\n",
    "Builds time-series for current animation frame\n",
    "Shifts time by frame/fs for animation effect\n",
    "Safely evaluates user expression with restricted namespace\n",
    "Adds scaled Gaussian noise\n",
    "Returns array of length N\n",
    "Update Function\n",
    "def update (frame):\n",
    "signal generate signal(frame)\n",
    "fft vals np.fft.fft(signal) fft freqs np.fft.fftfreq(N, 1/fs)\n",
    "pos mask fft freqs\n",
    "ffft freqs[pos_mask]\n",
    "magnp.abs(fft_vals[pos_mask])\n",
    "linel.set data(t, signal) line2.set data(f, nag)\n",
    "ax2.set ylin(, max(mag) 1.1 if np.max(mag) else 1) axi.set ylis(sin(signal)*1.1, max(signal)*1.1)\n",
    "return linet, line2\n",
    "Called by animation every interval\n",
    "Generates signal and computes FFT\n",
    "Shows only positive frequencies (single-sided spectrum)\n",
    "Updates both time and frequency domain plots\n",
    "Auto-scales y-axes for optimal viewing\n",
    "Returns updated line artists for blitting\n",
    "8"
   ]
  },
  {
   "cell_type": "code",
   "execution_count": null,
   "id": "0f900754-c10f-4b46-81ba-13046cd1c41c",
   "metadata": {},
   "outputs": [],
   "source": []
  },
  {
   "cell_type": "code",
   "execution_count": null,
   "id": "2b7000c3-0244-4ac1-b403-e3648efb5f95",
   "metadata": {},
   "outputs": [],
   "source": []
  },
  {
   "cell_type": "code",
   "execution_count": null,
   "id": "043b9c50-16df-48c3-b01b-187a42181de0",
   "metadata": {},
   "outputs": [],
   "source": []
  },
  {
   "cell_type": "code",
   "execution_count": null,
   "id": "749a7a8f-f0a7-4bff-9e6f-54f8e82e5cc0",
   "metadata": {},
   "outputs": [],
   "source": []
  },
  {
   "cell_type": "code",
   "execution_count": null,
   "id": "051ebbdb-06d3-4a80-87dc-ba19dea6a8d5",
   "metadata": {},
   "outputs": [],
   "source": []
  },
  {
   "cell_type": "code",
   "execution_count": null,
   "id": "1e930cd1-759c-4aeb-917e-bad92e565793",
   "metadata": {},
   "outputs": [],
   "source": []
  },
  {
   "cell_type": "code",
   "execution_count": null,
   "id": "58af8a4b-6a4a-4648-99ef-aaec9e2b6f5d",
   "metadata": {},
   "outputs": [],
   "source": []
  },
  {
   "cell_type": "code",
   "execution_count": null,
   "id": "1aa451d6-3a1d-48c0-8a66-6b62bbb889a8",
   "metadata": {},
   "outputs": [],
   "source": []
  },
  {
   "cell_type": "code",
   "execution_count": null,
   "id": "dc25a373-f852-4beb-bdb7-290855b73c90",
   "metadata": {},
   "outputs": [],
   "source": []
  },
  {
   "cell_type": "code",
   "execution_count": null,
   "id": "f5f05001-269e-46f2-ace3-9d001677b8dd",
   "metadata": {},
   "outputs": [],
   "source": []
  },
  {
   "cell_type": "code",
   "execution_count": null,
   "id": "43682bdf-c6b3-4190-9459-46bc3e0c4902",
   "metadata": {},
   "outputs": [],
   "source": []
  }
 ],
 "metadata": {
  "kernelspec": {
   "display_name": "Python 3 (ipykernel)",
   "language": "python",
   "name": "python3"
  },
  "language_info": {
   "codemirror_mode": {
    "name": "ipython",
    "version": 3
   },
   "file_extension": ".py",
   "mimetype": "text/x-python",
   "name": "python",
   "nbconvert_exporter": "python",
   "pygments_lexer": "ipython3",
   "version": "3.12.5"
  }
 },
 "nbformat": 4,
 "nbformat_minor": 5
}
